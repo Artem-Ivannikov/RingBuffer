{
 "cells": [
  {
   "cell_type": "code",
   "execution_count": 121,
   "id": "e9e1b9dc",
   "metadata": {},
   "outputs": [],
   "source": [
    "import pickle"
   ]
  },
  {
   "cell_type": "code",
   "execution_count": 119,
   "id": "fa429299",
   "metadata": {},
   "outputs": [],
   "source": [
    "class Node:\n",
    "    def __init__(self, value, nxt=None):\n",
    "        self.value = value\n",
    "        self.nxt = nxt\n",
    "        \n",
    "    def get_value(self):\n",
    "        return self.value\n",
    "    \n",
    "    def get_next(self):\n",
    "        return self.nxt\n",
    "    \n",
    "class RingBuffer:\n",
    "    def __init__(self):\n",
    "        elem = Node(None)\n",
    "        self.length = 0\n",
    "        self.last = elem\n",
    "        elem.nxt = elem\n",
    "        \n",
    "    def add(self, value):\n",
    "        self.last.value = value\n",
    "        elem = Node(None)\n",
    "        elem.nxt = self.last.nxt\n",
    "        self.last.nxt = elem\n",
    "        self.last = elem\n",
    "        self.length += 1\n",
    "    \n",
    "    def __len__(self):\n",
    "        return self.length\n",
    "    \n",
    "    def __getitem__(self, idx):\n",
    "        if self.length == 0:\n",
    "            raise IndexError(\"Buffer is empty\")\n",
    "        current = self.last.nxt\n",
    "        for i in range(idx):\n",
    "            current = current.get_next()\n",
    "            if (i+1)%self.length == 0:\n",
    "                current = current.get_next()\n",
    "        return current.get_value()\n",
    "    \n",
    "    def __setitem__(self, idx, value):\n",
    "        elem = Node(value)\n",
    "        current = self.last\n",
    "        for i in range(idx):\n",
    "            current = current.get_next()\n",
    "            if (i+1)%self.length == 0:\n",
    "                current = current.get_next()\n",
    "        elem.nxt = current.nxt.nxt\n",
    "        current.nxt = elem\n",
    "    \n",
    "    def __delitem__(self, idx):\n",
    "        if self.length == 0:\n",
    "            raise IndexError(\"Buffer is empty\")\n",
    "        current = self.last\n",
    "        for i in range(idx):\n",
    "            current = current.get_next()\n",
    "            if (i+1)%self.length == 0:\n",
    "                current = current.get_next()\n",
    "        current.nxt = current.nxt.nxt\n",
    "        \n",
    "    def __iter__(self):\n",
    "        self.__curr = self.last.nxt\n",
    "        return self\n",
    "        \n",
    "    def __next__(self):\n",
    "        val = self.__curr.get_value()\n",
    "        if self.__curr.nxt == self.last.nxt:\n",
    "            raise StopIteration()\n",
    "            return val\n",
    "        self.__curr = self.__curr.get_next()\n",
    "        return val\n",
    "    \n",
    "#    def __getstate__(self):\n",
    "#        if self.length == 0:\n",
    "#            return\n",
    "#        state = []\n",
    "#        current = self.last.nxt\n",
    "#        state.append(current.get_value())\n",
    "#        for i in range(self.length-1):\n",
    "#            current = current.get_next()\n",
    "#            state.append(current.get_value())\n",
    "#        return state\n",
    "#    \n",
    "#    def __setstate__(self, state):\n",
    "#        for value in state:\n",
    "#            self.last.value = value\n",
    "#            elem = Node(None)\n",
    "#            elem.nxt = self.last.nxt\n",
    "#            self.last.nxt = elem\n",
    "#            self.last = elem\n",
    "#            self.length += 1"
   ]
  },
  {
   "cell_type": "code",
   "execution_count": 120,
   "id": "202d01bf",
   "metadata": {},
   "outputs": [
    {
     "name": "stdout",
     "output_type": "stream",
     "text": [
      "10\n",
      "3\n",
      "4\n",
      "5\n"
     ]
    }
   ],
   "source": [
    "lst = RingBuffer()\n",
    "lst.add(1)\n",
    "lst.add(2)\n",
    "lst.add(3)\n",
    "lst.add(4)\n",
    "lst.add(5)\n",
    "    \n",
    "lst[6] = 10\n",
    "del lst[5]\n",
    "for i in lst:\n",
    "    print(i)"
   ]
  },
  {
   "cell_type": "code",
   "execution_count": 97,
   "id": "23edf8a5",
   "metadata": {},
   "outputs": [
    {
     "name": "stdout",
     "output_type": "stream",
     "text": [
      "1\n"
     ]
    }
   ],
   "source": [
    "print(lst[5])"
   ]
  },
  {
   "cell_type": "code",
   "execution_count": 112,
   "id": "6461765e",
   "metadata": {},
   "outputs": [
    {
     "name": "stdout",
     "output_type": "stream",
     "text": [
      "None\n"
     ]
    }
   ],
   "source": [
    "lst2 = RingBuffer()\n",
    "print(lst2[0])"
   ]
  },
  {
   "cell_type": "code",
   "execution_count": 122,
   "id": "7f1df5ab",
   "metadata": {},
   "outputs": [],
   "source": [
    "with open(\"data.pickle\", \"wb\") as f:\n",
    "        pickle.dump(lst, f)"
   ]
  },
  {
   "cell_type": "code",
   "execution_count": 123,
   "id": "4d95e206",
   "metadata": {},
   "outputs": [],
   "source": [
    "with open(\"data.pickle\", \"rb\") as f:\n",
    "    p = pickle.load(f)"
   ]
  },
  {
   "cell_type": "code",
   "execution_count": 124,
   "id": "0917b1f5",
   "metadata": {},
   "outputs": [
    {
     "name": "stdout",
     "output_type": "stream",
     "text": [
      "10\n",
      "3\n",
      "4\n",
      "5\n"
     ]
    }
   ],
   "source": [
    "for i in p:\n",
    "    print(i)"
   ]
  },
  {
   "cell_type": "code",
   "execution_count": null,
   "id": "a45d32f4",
   "metadata": {},
   "outputs": [],
   "source": []
  }
 ],
 "metadata": {
  "kernelspec": {
   "display_name": "Python 3 (ipykernel)",
   "language": "python",
   "name": "python3"
  },
  "language_info": {
   "codemirror_mode": {
    "name": "ipython",
    "version": 3
   },
   "file_extension": ".py",
   "mimetype": "text/x-python",
   "name": "python",
   "nbconvert_exporter": "python",
   "pygments_lexer": "ipython3",
   "version": "3.7.11"
  }
 },
 "nbformat": 4,
 "nbformat_minor": 5
}
